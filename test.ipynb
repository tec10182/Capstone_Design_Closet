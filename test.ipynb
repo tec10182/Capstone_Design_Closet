{
 "cells": [
  {
   "cell_type": "code",
   "execution_count": 3,
   "metadata": {},
   "outputs": [
    {
     "name": "stderr",
     "output_type": "stream",
     "text": [
      "It looks like you are trying to rescale already rescaled images. If the input images have pixel values between 0 and 1, set `do_rescale=False` to avoid rescaling them again.\n"
     ]
    },
    {
     "name": "stdout",
     "output_type": "stream",
     "text": [
      "Output shape: torch.Size([1, 2048, 7, 7])\n"
     ]
    }
   ],
   "source": [
    "from transformers import AutoModel, AutoFeatureExtractor\n",
    "import torch\n",
    "\n",
    "# ResNet-50 모델과 feature extractor 로드\n",
    "model = AutoModel.from_pretrained(\"microsoft/resnet-50\")\n",
    "extractor = AutoFeatureExtractor.from_pretrained(\"microsoft/resnet-50\")\n",
    "\n",
    "# 입력 데이터 생성 (예: 배치 사이즈 1, 이미지 크기 3x224x224)\n",
    "# 무작위 데이터 생성 (값이 범위를 초과할 수 있음)\n",
    "image = torch.randn(1, 3, 224, 224)  # 무작위 데이터 (배치 크기 1)\n",
    "\n",
    "# 값을 [0, 1] 범위로 정규화\n",
    "image = (image - image.min()) / (image.max() - image.min())  # 정규화\n",
    "\n",
    "# 이미지 전처리 (PIL 이미지로 변환)\n",
    "inputs = extractor(images=image, return_tensors=\"pt\")\n",
    "\n",
    "# 모델을 통해 임베딩 추출\n",
    "with torch.no_grad():  # 기울기 계산 비활성화\n",
    "    outputs = model(**inputs)\n",
    "\n",
    "# 출력 크기 확인\n",
    "# outputs에는 다양한 속성이 있지만, 마지막 출력은 last_hidden_state로 확인\n",
    "print(\"Output shape:\", outputs.last_hidden_state.shape)  # (1, 2048) 형태\n",
    "print(outputs.shape)\n"
   ]
  }
 ],
 "metadata": {
  "kernelspec": {
   "display_name": "project",
   "language": "python",
   "name": "python3"
  },
  "language_info": {
   "codemirror_mode": {
    "name": "ipython",
    "version": 3
   },
   "file_extension": ".py",
   "mimetype": "text/x-python",
   "name": "python",
   "nbconvert_exporter": "python",
   "pygments_lexer": "ipython3",
   "version": "3.10.6"
  }
 },
 "nbformat": 4,
 "nbformat_minor": 2
}
